{
 "cells": [
  {
   "cell_type": "code",
   "execution_count": 78,
   "id": "08c380b4",
   "metadata": {},
   "outputs": [],
   "source": [
    "import pandas as pd\n",
    "import seaborn as sns\n",
    "import numpy as np\n",
    "%matplotlib inline\n",
    "import matplotlib.pyplot as plt\n",
    "\n",
    "from torch_geometric.data import Data\n",
    "import warnings\n",
    "warnings.filterwarnings(\"ignore\")\n",
    "import torch\n"
   ]
  },
  {
   "cell_type": "code",
   "execution_count": 79,
   "id": "baf76df0",
   "metadata": {},
   "outputs": [
    {
     "name": "stdout",
     "output_type": "stream",
     "text": [
      "CUDA Available: True\n",
      "tensor([1., 2., 3.], device='cuda:0')\n"
     ]
    }
   ],
   "source": [
    "import torch\n",
    "print(\"CUDA Available:\", torch.cuda.is_available())\n",
    "x = torch.tensor([1.0, 2.0, 3.0], device='cuda')\n",
    "print(x)"
   ]
  },
  {
   "cell_type": "code",
   "execution_count": 4,
   "id": "b16255a8",
   "metadata": {},
   "outputs": [],
   "source": [
    "data=pd.read_csv(\"data_consolidation_standardization.csv\")\n",
    "data=data.drop(labels=\"Unnamed: 0\", axis=1)\n",
    "# data_test=data.loc[data['CellID']<=100]"
   ]
  },
  {
   "cell_type": "code",
   "execution_count": 6,
   "id": "c487ecfe",
   "metadata": {},
   "outputs": [],
   "source": [
    "data.sort_values(['CellID','datetime'], inplace=True)\n",
    "data_test=data"
   ]
  },
  {
   "cell_type": "markdown",
   "id": "0f010bcb",
   "metadata": {},
   "source": [
    "# 重构数据"
   ]
  },
  {
   "cell_type": "code",
   "execution_count": 7,
   "id": "ec6fc9d2",
   "metadata": {},
   "outputs": [],
   "source": [
    "# 初始化一个数组来存储重构后的数据\n",
    "num_nodes = 100\n",
    "num_timesteps = 168\n",
    "num_features = 3"
   ]
  },
  {
   "cell_type": "markdown",
   "id": "367b0585",
   "metadata": {},
   "source": [
    "X为需要用到的数据"
   ]
  },
  {
   "cell_type": "code",
   "execution_count": 8,
   "id": "32fd588f",
   "metadata": {},
   "outputs": [],
   "source": [
    "# 创建一个空的 numpy 数组，用于存储每个节点的特征，这里是提取和时序有关的数据，为训练集和测试集构建做准备\n",
    "X = np.zeros((num_nodes, num_timesteps, num_features))\n",
    "\n",
    "# 遍历每个基站，填充数据\n",
    "for i in range(num_nodes):\n",
    "    # 提取当前基站的数据\n",
    "    node_data = data_test[data_test['CellID'] == i+1]  # 假设 CellID 从 1 开始\n",
    "    # 确保数据的长度正确\n",
    "    if len(node_data) == num_timesteps:\n",
    "        X[i, :, 0] = node_data['internet'].values\n",
    "        X[i, :, 1] = node_data['calls'].values\n",
    "        X[i, :, 2] = node_data['sms'].values\n",
    "    else:\n",
    "        print(f\"Warning: Node {i+1} has incorrect number of timesteps: {len(node_data)}\")\n"
   ]
  },
  {
   "cell_type": "code",
   "execution_count": 94,
   "id": "02d86710",
   "metadata": {},
   "outputs": [
    {
     "name": "stdout",
     "output_type": "stream",
     "text": [
      "X_train shape: (157, 100, 3, 6)\n",
      "Y_train shape: (157, 100, 6)\n"
     ]
    }
   ],
   "source": [
    "import numpy as np\n",
    "\n",
    "# 参数设置\n",
    "num_nodes = 100  # 节点数量\n",
    "num_timesteps = 168  # 每个节点的时间点数量\n",
    "window_size = 6  # 滑动窗口大小\n",
    "predict_steps = 6  # 预测未来的时间步数\n",
    "\n",
    "# 计算可以利用的时间序列长度（减去窗口大小和预测的步数）\n",
    "usable_timesteps = num_timesteps - window_size - predict_steps + 1\n",
    "\n",
    "# 初始化训练数据和标签数组\n",
    "X_train = np.zeros((usable_timesteps, num_nodes, 3, window_size))  # 特征窗口数据\n",
    "Y_train = np.zeros((usable_timesteps, num_nodes, predict_steps))  # 预测目标数据，现在每个节点有3个预测点\n",
    "\n",
    "# 数据提取\n",
    "for t in range(usable_timesteps):\n",
    "    # 提取每个节点的特征窗口\n",
    "    X_train[t] = np.transpose(X[:, t:t+window_size, :], (0, 2, 1))\n",
    "    # 提取每个节点对应窗口后未来3个时间点的internet特征作为标签\n",
    "    Y_train[t] = X[:, t+window_size:t+window_size+predict_steps, 0].reshape(num_nodes, predict_steps)\n",
    "\n",
    "# 检查最终的数据形状\n",
    "print(f\"X_train shape: {X_train.shape}\")  # 应为 (usable_timesteps, 100, 3, 6)\n",
    "print(f\"Y_train shape: {Y_train.shape}\")  # 应为 (usable_timesteps, 100, 3)\n"
   ]
  },
  {
   "cell_type": "code",
   "execution_count": 95,
   "id": "fe2ab0a0",
   "metadata": {},
   "outputs": [],
   "source": [
    "import torch\n",
    "from torch_geometric.data import Data\n"
   ]
  },
  {
   "cell_type": "code",
   "execution_count": 96,
   "id": "e3c29b11",
   "metadata": {},
   "outputs": [],
   "source": [
    "edge_index = []\n",
    "\n",
    "# 因为边是无向的，所以每个连接要添加两次，一次为 (source, target)，另一次为 (target, source)\n",
    "for timestep in range(num_timesteps - 6):  # 如果时间步涉及到边的创建，可能需要调整范围\n",
    "    for cell_id in range(1, num_nodes):  # 假设从1开始，确保不超出边界\n",
    "        if cell_id < num_nodes:  # 确保不会创建超出范围的边\n",
    "            src = cell_id - 1  # CellID 从1开始的调整\n",
    "            dst = cell_id     # 相邻的CellID，确保不越界\n",
    "\n",
    "            # 添加边 (src, dst) 和 (dst, src)\n",
    "            edge_index.append((src, dst))\n",
    "            edge_index.append((dst, src))\n",
    "\n",
    "# 转换为PyTorch张量\n",
    "edge_index_tensor = torch.tensor(edge_index, dtype=torch.long).t().contiguous()\n"
   ]
  },
  {
   "cell_type": "code",
   "execution_count": 97,
   "id": "eae1927d",
   "metadata": {},
   "outputs": [],
   "source": [
    "import torch\n",
    "from torch_geometric_temporal.signal import StaticGraphTemporalSignal\n",
    "\n",
    "# 假设 X_tensor 和 Y_tensor 已经准备好\n",
    "# edge_index_tensor 也已经定义\n",
    "\n",
    "# # 特征和目标应该是列表形式，其中每个元素是一个时间步的数据\n",
    "\n",
    "# features = [X_train[i] for i in range(X_tensor.shape[0])]\n",
    "# targets = [Y_train[i] for i in range(Y_tensor.shape[0])]\n",
    "\n",
    "features = [X_train[i] for i in range(X_train.shape[0])]\n",
    "targets = [Y_train[i] for i in range(Y_train.shape[0])]\n",
    "\n",
    "\n",
    "# 由于这里假设所有时间步使用相同的边，我们将 edge_index 和 edge_weight 设置为常量\n",
    "# 如果没有特定的边权重，可以使用全1的张量\n",
    "edge_weights = torch.ones(edge_index_tensor.size(1), dtype=torch.float)\n",
    "\n",
    "# 创建 StaticGraphTemporalSignal 对象\n",
    "graph_data = StaticGraphTemporalSignal(edge_index=edge_index_tensor, edge_weight=edge_weights, features=features, targets=targets)"
   ]
  },
  {
   "cell_type": "markdown",
   "id": "eacb2ad8",
   "metadata": {},
   "source": [
    "# 数据检查"
   ]
  },
  {
   "cell_type": "code",
   "execution_count": 98,
   "id": "3e791ede",
   "metadata": {},
   "outputs": [
    {
     "data": {
      "text/plain": [
       "Data(x=[100, 3, 6], edge_index=[2, 32076], edge_attr=[32076], y=[100, 6])"
      ]
     },
     "execution_count": 98,
     "metadata": {},
     "output_type": "execute_result"
    }
   ],
   "source": [
    "graph_data[0]"
   ]
  },
  {
   "cell_type": "markdown",
   "id": "eaf2b078",
   "metadata": {},
   "source": [
    "# 模型构建"
   ]
  },
  {
   "cell_type": "code",
   "execution_count": 117,
   "id": "3fee9676",
   "metadata": {},
   "outputs": [],
   "source": [
    "import torch\n",
    "import torch.nn.functional as F\n",
    "from torch_geometric_temporal.nn.recurrent import A3TGCN\n",
    "\n",
    "class TemporalGNN(torch.nn.Module):\n",
    "    def __init__(self, node_features, periods):\n",
    "        super(TemporalGNN, self).__init__()\n",
    "        # Attention Temporal Graph Convolutional Cell\n",
    "        self.tgnn = A3TGCN(in_channels=node_features, \n",
    "                           out_channels=32, \n",
    "                           periods=periods)#periods决定模型侧重短期特征还是长期特征\n",
    "        # Equals single-shot prediction\n",
    "        self.linear = torch.nn.Linear(32, periods)#预测未来的12个值\n",
    "\n",
    "#     def forward(self, x, edge_index,edge_attr):\n",
    "    def forward(self, x, edge_index):\n",
    "        \"\"\"\n",
    "        x = Node features for T time steps\n",
    "        edge_index = Graph edge indices\n",
    "        \"\"\"\n",
    "#         h = self.tgnn(x, edge_index,edge_attr)\n",
    "        h = self.tgnn(x, edge_index)\n",
    "        h = F.relu(h)\n",
    "        h = self.linear(h)\n",
    "        return h\n",
    "\n",
    "# TemporalGNN(node_features=3, periods=1)"
   ]
  },
  {
   "cell_type": "markdown",
   "id": "c687322a",
   "metadata": {},
   "source": [
    "# 训练和测试"
   ]
  },
  {
   "cell_type": "code",
   "execution_count": 118,
   "id": "e3aca15c",
   "metadata": {},
   "outputs": [
    {
     "name": "stdout",
     "output_type": "stream",
     "text": [
      "Running training...\n",
      "Epoch 0 train MSE: 1.0252\n",
      "Epoch 1 train MSE: 0.9673\n",
      "Epoch 2 train MSE: 0.9108\n",
      "Epoch 3 train MSE: 0.8498\n",
      "Epoch 4 train MSE: 0.7887\n",
      "Epoch 5 train MSE: 0.7286\n",
      "Epoch 6 train MSE: 0.6740\n",
      "Epoch 7 train MSE: 0.6300\n",
      "Epoch 8 train MSE: 0.5998\n",
      "Epoch 9 train MSE: 0.5827\n"
     ]
    }
   ],
   "source": [
    "# GPU support\n",
    "\n",
    "device = torch.device('cuda' if torch.cuda.is_available() else 'cpu')\n",
    "subset = 2000#限制数据集为2000\n",
    "\n",
    "# Create model and optimizers\n",
    "model = TemporalGNN(node_features=3, periods=6).to(device)#node_features是节点特征长度，而periods是预测的时间步,todevice一方面\n",
    "# model = TemporalGNN(node_features=3, periods=1)\n",
    "optimizer = torch.optim.Adam(model.parameters(), lr=0.01)\n",
    "model.train()\n",
    "\n",
    "print(\"Running training...\")\n",
    "for epoch in range(10): \n",
    "    loss = 0\n",
    "    step = 0\n",
    "    for snapshot in graph_data:\n",
    "        snapshot = snapshot.to(device)\n",
    "        # Get model predictions\n",
    "        y_hat = model(snapshot.x, snapshot.edge_index)\n",
    "#         y_hat = model(snapshot.x, snapshot.edge_index,snapshot.edge_attr)\n",
    "        # Mean squared error\n",
    "        loss = loss + torch.mean((y_hat-snapshot.y)**2) \n",
    "        step += 1\n",
    "        if step > subset:\n",
    "            break\n",
    "\n",
    "    loss = loss / (step + 1)\n",
    "    loss.backward()\n",
    "    optimizer.step()\n",
    "    optimizer.zero_grad()\n",
    "    print(\"Epoch {} train MSE: {:.4f}\".format(epoch, loss.item()))"
   ]
  },
  {
   "cell_type": "markdown",
   "id": "cf5698cd",
   "metadata": {},
   "source": [
    "# 层级注意力机制重构"
   ]
  },
  {
   "cell_type": "code",
   "execution_count": null,
   "id": "adbae8e3",
   "metadata": {},
   "outputs": [],
   "source": []
  }
 ],
 "metadata": {
  "kernelspec": {
   "display_name": "Python 3 (ipykernel)",
   "language": "python",
   "name": "python3"
  },
  "language_info": {
   "codemirror_mode": {
    "name": "ipython",
    "version": 3
   },
   "file_extension": ".py",
   "mimetype": "text/x-python",
   "name": "python",
   "nbconvert_exporter": "python",
   "pygments_lexer": "ipython3",
   "version": "3.9.12"
  }
 },
 "nbformat": 4,
 "nbformat_minor": 5
}
