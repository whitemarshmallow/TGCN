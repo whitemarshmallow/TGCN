{
 "cells": [
  {
   "cell_type": "code",
   "execution_count": 1,
   "id": "08c380b4",
   "metadata": {},
   "outputs": [],
   "source": [
    "import pandas as pd\n",
    "import seaborn as sns\n",
    "import numpy as np\n",
    "%matplotlib inline\n",
    "import matplotlib.pyplot as plt\n",
    "\n",
    "from torch_geometric.data import Data\n",
    "import warnings\n",
    "warnings.filterwarnings(\"ignore\")\n",
    "import torch\n"
   ]
  },
  {
   "cell_type": "code",
   "execution_count": 2,
   "id": "baf76df0",
   "metadata": {},
   "outputs": [
    {
     "name": "stdout",
     "output_type": "stream",
     "text": [
      "CUDA Available: True\n",
      "tensor([1., 2., 3.], device='cuda:0')\n"
     ]
    }
   ],
   "source": [
    "import torch\n",
    "print(\"CUDA Available:\", torch.cuda.is_available())\n",
    "x = torch.tensor([1.0, 2.0, 3.0], device='cuda')\n",
    "print(x)"
   ]
  },
  {
   "cell_type": "code",
   "execution_count": 3,
   "id": "b16255a8",
   "metadata": {},
   "outputs": [],
   "source": [
    "data=pd.read_csv(\"data_consolidation_standardization.csv\")\n",
    "data=data.drop(labels=\"Unnamed: 0\", axis=1)\n",
    "# data_test=data.loc[data['CellID']<=100]"
   ]
  },
  {
   "cell_type": "code",
   "execution_count": 4,
   "id": "c487ecfe",
   "metadata": {},
   "outputs": [],
   "source": [
    "data.sort_values(['CellID','datetime'], inplace=True)\n",
    "data_test=data"
   ]
  },
  {
   "cell_type": "code",
   "execution_count": 5,
   "id": "934d3896",
   "metadata": {},
   "outputs": [
    {
     "data": {
      "text/html": [
       "<div>\n",
       "<style scoped>\n",
       "    .dataframe tbody tr th:only-of-type {\n",
       "        vertical-align: middle;\n",
       "    }\n",
       "\n",
       "    .dataframe tbody tr th {\n",
       "        vertical-align: top;\n",
       "    }\n",
       "\n",
       "    .dataframe thead th {\n",
       "        text-align: right;\n",
       "    }\n",
       "</style>\n",
       "<table border=\"1\" class=\"dataframe\">\n",
       "  <thead>\n",
       "    <tr style=\"text-align: right;\">\n",
       "      <th></th>\n",
       "      <th>datetime</th>\n",
       "      <th>CellID</th>\n",
       "      <th>internet</th>\n",
       "      <th>calls</th>\n",
       "      <th>sms</th>\n",
       "      <th>longitude</th>\n",
       "      <th>latitude</th>\n",
       "    </tr>\n",
       "  </thead>\n",
       "  <tbody>\n",
       "    <tr>\n",
       "      <th>0</th>\n",
       "      <td>2013-11-01 00:00:00</td>\n",
       "      <td>1</td>\n",
       "      <td>-1.045031</td>\n",
       "      <td>-0.739046</td>\n",
       "      <td>-0.846748</td>\n",
       "      <td>9.160012</td>\n",
       "      <td>45.358657</td>\n",
       "    </tr>\n",
       "    <tr>\n",
       "      <th>100</th>\n",
       "      <td>2013-11-01 01:00:00</td>\n",
       "      <td>1</td>\n",
       "      <td>-1.074765</td>\n",
       "      <td>-0.750493</td>\n",
       "      <td>-0.865873</td>\n",
       "      <td>9.160012</td>\n",
       "      <td>45.358657</td>\n",
       "    </tr>\n",
       "    <tr>\n",
       "      <th>200</th>\n",
       "      <td>2013-11-01 02:00:00</td>\n",
       "      <td>1</td>\n",
       "      <td>-1.087136</td>\n",
       "      <td>-0.754285</td>\n",
       "      <td>-0.873567</td>\n",
       "      <td>9.160012</td>\n",
       "      <td>45.358657</td>\n",
       "    </tr>\n",
       "    <tr>\n",
       "      <th>300</th>\n",
       "      <td>2013-11-01 03:00:00</td>\n",
       "      <td>1</td>\n",
       "      <td>-1.096080</td>\n",
       "      <td>-0.757753</td>\n",
       "      <td>-0.875403</td>\n",
       "      <td>9.160012</td>\n",
       "      <td>45.358657</td>\n",
       "    </tr>\n",
       "    <tr>\n",
       "      <th>400</th>\n",
       "      <td>2013-11-01 04:00:00</td>\n",
       "      <td>1</td>\n",
       "      <td>-1.109877</td>\n",
       "      <td>-0.756706</td>\n",
       "      <td>-0.878479</td>\n",
       "      <td>9.160012</td>\n",
       "      <td>45.358657</td>\n",
       "    </tr>\n",
       "    <tr>\n",
       "      <th>...</th>\n",
       "      <td>...</td>\n",
       "      <td>...</td>\n",
       "      <td>...</td>\n",
       "      <td>...</td>\n",
       "      <td>...</td>\n",
       "      <td>...</td>\n",
       "      <td>...</td>\n",
       "    </tr>\n",
       "    <tr>\n",
       "      <th>16399</th>\n",
       "      <td>2013-11-07 19:00:00</td>\n",
       "      <td>100</td>\n",
       "      <td>-0.050505</td>\n",
       "      <td>-0.004918</td>\n",
       "      <td>-0.064944</td>\n",
       "      <td>9.160606</td>\n",
       "      <td>45.568069</td>\n",
       "    </tr>\n",
       "    <tr>\n",
       "      <th>16499</th>\n",
       "      <td>2013-11-07 20:00:00</td>\n",
       "      <td>100</td>\n",
       "      <td>-0.141303</td>\n",
       "      <td>-0.239126</td>\n",
       "      <td>-0.156799</td>\n",
       "      <td>9.160606</td>\n",
       "      <td>45.568069</td>\n",
       "    </tr>\n",
       "    <tr>\n",
       "      <th>16599</th>\n",
       "      <td>2013-11-07 21:00:00</td>\n",
       "      <td>100</td>\n",
       "      <td>-0.231419</td>\n",
       "      <td>-0.426115</td>\n",
       "      <td>-0.262352</td>\n",
       "      <td>9.160606</td>\n",
       "      <td>45.568069</td>\n",
       "    </tr>\n",
       "    <tr>\n",
       "      <th>16699</th>\n",
       "      <td>2013-11-07 22:00:00</td>\n",
       "      <td>100</td>\n",
       "      <td>-0.319378</td>\n",
       "      <td>-0.600432</td>\n",
       "      <td>-0.395659</td>\n",
       "      <td>9.160606</td>\n",
       "      <td>45.568069</td>\n",
       "    </tr>\n",
       "    <tr>\n",
       "      <th>16799</th>\n",
       "      <td>2013-11-07 23:00:00</td>\n",
       "      <td>100</td>\n",
       "      <td>-0.463642</td>\n",
       "      <td>-0.677496</td>\n",
       "      <td>-0.616486</td>\n",
       "      <td>9.160606</td>\n",
       "      <td>45.568069</td>\n",
       "    </tr>\n",
       "  </tbody>\n",
       "</table>\n",
       "<p>16800 rows × 7 columns</p>\n",
       "</div>"
      ],
      "text/plain": [
       "                  datetime  CellID  internet     calls       sms  longitude  \\\n",
       "0      2013-11-01 00:00:00       1 -1.045031 -0.739046 -0.846748   9.160012   \n",
       "100    2013-11-01 01:00:00       1 -1.074765 -0.750493 -0.865873   9.160012   \n",
       "200    2013-11-01 02:00:00       1 -1.087136 -0.754285 -0.873567   9.160012   \n",
       "300    2013-11-01 03:00:00       1 -1.096080 -0.757753 -0.875403   9.160012   \n",
       "400    2013-11-01 04:00:00       1 -1.109877 -0.756706 -0.878479   9.160012   \n",
       "...                    ...     ...       ...       ...       ...        ...   \n",
       "16399  2013-11-07 19:00:00     100 -0.050505 -0.004918 -0.064944   9.160606   \n",
       "16499  2013-11-07 20:00:00     100 -0.141303 -0.239126 -0.156799   9.160606   \n",
       "16599  2013-11-07 21:00:00     100 -0.231419 -0.426115 -0.262352   9.160606   \n",
       "16699  2013-11-07 22:00:00     100 -0.319378 -0.600432 -0.395659   9.160606   \n",
       "16799  2013-11-07 23:00:00     100 -0.463642 -0.677496 -0.616486   9.160606   \n",
       "\n",
       "        latitude  \n",
       "0      45.358657  \n",
       "100    45.358657  \n",
       "200    45.358657  \n",
       "300    45.358657  \n",
       "400    45.358657  \n",
       "...          ...  \n",
       "16399  45.568069  \n",
       "16499  45.568069  \n",
       "16599  45.568069  \n",
       "16699  45.568069  \n",
       "16799  45.568069  \n",
       "\n",
       "[16800 rows x 7 columns]"
      ]
     },
     "execution_count": 5,
     "metadata": {},
     "output_type": "execute_result"
    }
   ],
   "source": [
    "data_test"
   ]
  },
  {
   "cell_type": "markdown",
   "id": "0f010bcb",
   "metadata": {},
   "source": [
    "# 重构数据"
   ]
  },
  {
   "cell_type": "code",
   "execution_count": 6,
   "id": "ec6fc9d2",
   "metadata": {},
   "outputs": [],
   "source": [
    "# 初始化一个数组来存储重构后的数据\n",
    "num_nodes = 100\n",
    "num_timesteps = 168\n",
    "num_features = 3"
   ]
  },
  {
   "cell_type": "markdown",
   "id": "367b0585",
   "metadata": {},
   "source": [
    "X为需要用到的数据"
   ]
  },
  {
   "cell_type": "code",
   "execution_count": 7,
   "id": "32fd588f",
   "metadata": {},
   "outputs": [],
   "source": [
    "# 创建一个空的 numpy 数组，用于存储每个节点的特征，这里是提取和时序有关的数据，为训练集和测试集构建做准备\n",
    "X = np.zeros((num_nodes, num_timesteps, num_features))\n",
    "\n",
    "# 遍历每个基站，填充数据\n",
    "for i in range(num_nodes):\n",
    "    # 提取当前基站的数据\n",
    "    node_data = data_test[data_test['CellID'] == i+1]  # 假设 CellID 从 1 开始\n",
    "    # 确保数据的长度正确\n",
    "    if len(node_data) == num_timesteps:\n",
    "        X[i, :, 0] = node_data['internet'].values\n",
    "        X[i, :, 1] = node_data['calls'].values\n",
    "        X[i, :, 2] = node_data['sms'].values\n",
    "    else:\n",
    "        print(f\"Warning: Node {i+1} has incorrect number of timesteps: {len(node_data)}\")\n"
   ]
  },
  {
   "cell_type": "code",
   "execution_count": 8,
   "id": "b2687e2e",
   "metadata": {},
   "outputs": [
    {
     "data": {
      "text/plain": [
       "(100, 168, 3)"
      ]
     },
     "execution_count": 8,
     "metadata": {},
     "output_type": "execute_result"
    }
   ],
   "source": [
    "X.shape"
   ]
  },
  {
   "cell_type": "code",
   "execution_count": 9,
   "id": "a3cd4e37",
   "metadata": {},
   "outputs": [
    {
     "data": {
      "text/plain": [
       "array([[[-1.0450308 , -0.73904563, -0.84674845],\n",
       "        [-1.07476506, -0.75049338, -0.86587277],\n",
       "        [-1.08713609, -0.7542851 , -0.87356665],\n",
       "        ...,\n",
       "        [-0.96361034, -0.67310022, -0.74354086],\n",
       "        [-0.97581032, -0.71657865, -0.76440385],\n",
       "        [-1.00971515, -0.73868004, -0.80597322]],\n",
       "\n",
       "       [[-1.02265791, -0.73796843, -0.84425615],\n",
       "        [-1.05836134, -0.74950306, -0.86310406],\n",
       "        [-1.06950522, -0.75192882, -0.87142658],\n",
       "        ...,\n",
       "        [-0.92947228, -0.66630709, -0.72315621],\n",
       "        [-0.93924703, -0.7134834 , -0.74826225],\n",
       "        [-0.97507457, -0.73674196, -0.79580883]],\n",
       "\n",
       "       [[-1.0293318 , -0.73824903, -0.84680945],\n",
       "        [-1.06575388, -0.74942007, -0.8626201 ],\n",
       "        [-1.07831554, -0.75036499, -0.87113144],\n",
       "        ...,\n",
       "        [-0.93603355, -0.66563623, -0.72124845],\n",
       "        [-0.95273954, -0.71413596, -0.75372177],\n",
       "        [-0.98775576, -0.73780824, -0.79689143]],\n",
       "\n",
       "       ...,\n",
       "\n",
       "       [[-0.59533329, -0.68073512, -0.64476015],\n",
       "        [-0.72512362, -0.72087955, -0.67231443],\n",
       "        [-0.77803937, -0.73445543, -0.74826536],\n",
       "        ...,\n",
       "        [-0.36780193, -0.44084651, -0.26713923],\n",
       "        [-0.42591471, -0.59665518, -0.36263794],\n",
       "        [-0.55119387, -0.67345361, -0.54679698]],\n",
       "\n",
       "       [[-0.60840099, -0.68700635, -0.6969245 ],\n",
       "        [-0.73077664, -0.72357434, -0.73567993],\n",
       "        [-0.75929481, -0.7310581 , -0.76764791],\n",
       "        ...,\n",
       "        [-0.29848601, -0.43736031, -0.27136416],\n",
       "        [-0.39143021, -0.60464578, -0.40040831],\n",
       "        [-0.52252152, -0.67625395, -0.59906662]],\n",
       "\n",
       "       [[-0.56546088, -0.68043325, -0.69209128],\n",
       "        [-0.66945866, -0.71632843, -0.77551497],\n",
       "        [-0.68877551, -0.7250608 , -0.79954134],\n",
       "        ...,\n",
       "        [-0.23141879, -0.42611526, -0.26235155],\n",
       "        [-0.31937758, -0.60043244, -0.39565899],\n",
       "        [-0.46364193, -0.67749615, -0.61648593]]])"
      ]
     },
     "execution_count": 9,
     "metadata": {},
     "output_type": "execute_result"
    }
   ],
   "source": [
    "X#X为100个节点3个特征168个时序的数据"
   ]
  },
  {
   "cell_type": "code",
   "execution_count": 10,
   "id": "0bf4ec2d",
   "metadata": {},
   "outputs": [
    {
     "name": "stdout",
     "output_type": "stream",
     "text": [
      "X_train shape: (160, 100, 3, 6)\n",
      "y_train shape: (160, 100, 3)\n"
     ]
    }
   ],
   "source": [
    "import numpy as np\n",
    "\n",
    "def create_windowed_data(X, input_features, output_features, window_size, predict_steps):\n",
    "    \"\"\"\n",
    "    创建滑动窗口数据集，允许输入和输出具有不同的特征集。\n",
    "    \n",
    "    Args:\n",
    "    X (np.array): 原始数据，形状为 (num_nodes, num_timesteps, num_features)。\n",
    "    input_features (list): 输入特征的索引列表。\n",
    "    output_features (list): 输出特征的索引列表。\n",
    "    window_size (int): 输入窗口大小。\n",
    "    predict_steps (int): 要预测的步数。\n",
    "    \n",
    "    Returns:\n",
    "    np.array: X_train, 形状为 (num_samples, num_nodes, window_size, len(input_features))\n",
    "    np.array: y_train, 形状为 (num_samples, num_nodes, predict_steps, len(output_features))\n",
    "    \"\"\"\n",
    "    num_nodes, num_timesteps, _ = X.shape\n",
    "    num_samples = num_timesteps - window_size - predict_steps + 1\n",
    "    X_train = np.empty((num_samples, num_nodes, window_size, len(input_features)))\n",
    "    y_train = np.empty((num_samples, num_nodes, predict_steps, len(output_features)))\n",
    "\n",
    "    for t in range(num_samples):\n",
    "        X_train[t] = X[:, t:t+window_size, :][:, :, input_features]\n",
    "        y_train[t] = X[:, t+window_size:t+window_size+predict_steps, output_features]\n",
    "\n",
    "    return X_train, y_train\n",
    "\n",
    "# 设置窗口大小和预测步数\n",
    "window_size = 6\n",
    "predict_steps = 3\n",
    "\n",
    "# 选择特征\n",
    "input_features = [0,1,2]  # e.g., [0, 1] could represent 'internet' and 'calls'\n",
    "output_features = [0]    # e.g., [0] could represent 'internet'\n",
    "\n",
    "# 假设 X 是从您的数据加载过程中获得的\n",
    "X_train, y_train = create_windowed_data(X, input_features, output_features, window_size, predict_steps)\n",
    "\n",
    "print(\"X_train shape:\", X_train.shape)  # Expect: (num_samples, num_nodes, window_size, len(input_features))\n",
    "print(\"y_train shape:\", y_train.shape)  # Expect: (num_samples, num_nodes, predict_steps, len(output_features))\n"
   ]
  },
  {
   "cell_type": "code",
   "execution_count": null,
   "id": "cba8cd76",
   "metadata": {},
   "outputs": [],
   "source": []
  },
  {
   "cell_type": "code",
   "execution_count": 50,
   "id": "e3c29b11",
   "metadata": {},
   "outputs": [],
   "source": [
    "edge_index = []\n",
    "\n",
    "# 因为边是无向的，所以每个连接要添加两次，一次为 (source, target)，另一次为 (target, source)\n",
    "for timestep in range(num_timesteps - 6):  # 如果时间步涉及到边的创建，可能需要调整范围\n",
    "    for cell_id in range(1, num_nodes):  # 假设从1开始，确保不超出边界\n",
    "        if cell_id < num_nodes:  # 确保不会创建超出范围的边\n",
    "            src = cell_id - 1  # CellID 从1开始的调整\n",
    "            dst = cell_id     # 相邻的CellID，确保不越界\n",
    "\n",
    "            # 添加边 (src, dst) 和 (dst, src)\n",
    "            edge_index.append((src, dst))\n",
    "            edge_index.append((dst, src))\n",
    "\n",
    "# 转换为PyTorch张量\n",
    "edge_index_tensor = torch.tensor(edge_index, dtype=torch.long).t().contiguous()"
   ]
  },
  {
   "cell_type": "code",
   "execution_count": 34,
   "id": "5703c280",
   "metadata": {},
   "outputs": [],
   "source": [
    "import torch\n",
    "import numpy as np\n",
    "\n",
    "def prepare_graph_data_for_temporal_signal(X_train, y_train, edge_index, edge_attr, target_node, target_feature_index):\n",
    "    \"\"\"\n",
    "    准备用于StaticGraphTemporalSignal的图数据，输入为全图，输出为特定节点的特定特征。\n",
    "\n",
    "    Args:\n",
    "    X_train (array): 输入特征数据，形状为 (num_samples, num_nodes, num_features, window_size)。\n",
    "    y_train (array): 目标特征数据，形状为 (num_samples, num_nodes, predict_steps)。\n",
    "    edge_index (array): 边索引。\n",
    "    edge_attr (array): 边属性。\n",
    "    target_node (int): 目标节点索引。\n",
    "    target_feature_index (int): 目标特征索引。\n",
    "\n",
    "    Returns:\n",
    "    features (list of ndarray): 特征列表，每个元素是一个ndarray。\n",
    "    targets (list of ndarray): 目标列表，每个元素是一个ndarray。\n",
    "    \"\"\"\n",
    "    features = []\n",
    "    targets = []\n",
    "    for i in range(X_train.shape[0]):\n",
    "        x_tensor = torch.tensor(X_train[i], dtype=torch.float32).numpy()\n",
    "        y_tensor = torch.tensor(y_train[i, target_node, target_feature_index], dtype=torch.float32).numpy()\n",
    "        features.append(x_tensor)\n",
    "        targets.append(y_tensor)\n",
    "    \n",
    "    return features, targets\n",
    "\n",
    "# 示例使用，确保 edge_index 和 edge_attr 已定义\n",
    "features, targets = prepare_graph_data_for_temporal_signal(X_train, y_train, edge_index_tensor, edge_weights, target_node, target_feature_index)\n"
   ]
  },
  {
   "cell_type": "code",
   "execution_count": 51,
   "id": "a60dc8a9",
   "metadata": {},
   "outputs": [],
   "source": [
    "from torch_geometric_temporal.signal import StaticGraphTemporalSignal\n",
    "\n",
    "# # 转换边索引和边权重为NumPy数组\n",
    "# edge_index_array = np.array(edge_index, dtype=np.int64)\n",
    "\n",
    "# 由于这里假设所有时间步使用相同的边，我们将 edge_index 和 edge_weight 设置为常量\n",
    "# 如果没有特定的边权重，可以使用全1的张量\n",
    "edge_weights = torch.ones(edge_index_tensor.size(1), dtype=torch.float)\n",
    "\n",
    "# 创建StaticGraphTemporalSignal对象\n",
    "graph_data = StaticGraphTemporalSignal(edge_index=edge_index_tensor, edge_weight=edge_weights, features=features, targets=targets)"
   ]
  },
  {
   "cell_type": "markdown",
   "id": "eacb2ad8",
   "metadata": {},
   "source": [
    "# 数据检查"
   ]
  },
  {
   "cell_type": "code",
   "execution_count": 52,
   "id": "f3c4c04d",
   "metadata": {},
   "outputs": [
    {
     "data": {
      "text/plain": [
       "<torch_geometric_temporal.signal.static_graph_temporal_signal.StaticGraphTemporalSignal at 0x1c986abdd00>"
      ]
     },
     "execution_count": 52,
     "metadata": {},
     "output_type": "execute_result"
    }
   ],
   "source": [
    "graph_data"
   ]
  },
  {
   "cell_type": "code",
   "execution_count": 53,
   "id": "3e791ede",
   "metadata": {},
   "outputs": [
    {
     "data": {
      "text/plain": [
       "Data(x=[100, 3, 6], edge_index=[2, 32076], edge_attr=[32076], y=-1.057259202003479)"
      ]
     },
     "execution_count": 53,
     "metadata": {},
     "output_type": "execute_result"
    }
   ],
   "source": [
    "graph_data[0]"
   ]
  },
  {
   "cell_type": "markdown",
   "id": "eaf2b078",
   "metadata": {},
   "source": [
    "# 模型构建"
   ]
  },
  {
   "cell_type": "code",
   "execution_count": 54,
   "id": "3fee9676",
   "metadata": {},
   "outputs": [],
   "source": [
    "import torch\n",
    "import torch.nn.functional as F\n",
    "from torch_geometric_temporal.nn.recurrent import A3TGCN\n",
    "\n",
    "class TemporalGNN(torch.nn.Module):\n",
    "    def __init__(self, node_features, periods):\n",
    "        super(TemporalGNN, self).__init__()\n",
    "        # Attention Temporal Graph Convolutional Cell\n",
    "        self.tgnn = A3TGCN(in_channels=node_features, \n",
    "                           out_channels=32, \n",
    "                           periods=periods)#periods决定模型侧重短期特征还是长期特征\n",
    "        # Equals single-shot prediction\n",
    "        self.linear = torch.nn.Linear(32, periods)#预测未来的12个值\n",
    "\n",
    "    def forward(self, x, edge_index,edge_attr):\n",
    "#     def forward(self, x, edge_index):\n",
    "        \"\"\"\n",
    "        x = Node features for T time steps\n",
    "        edge_index = Graph edge indices\n",
    "        \"\"\"\n",
    "        h = self.tgnn(x, edge_index,edge_attr)\n",
    "#         h = self.tgnn(x, edge_index)\n",
    "        h = F.relu(h)\n",
    "        h = self.linear(h)\n",
    "        return h\n",
    "\n",
    "# TemporalGNN(node_features=3, periods=1)"
   ]
  },
  {
   "cell_type": "markdown",
   "id": "c687322a",
   "metadata": {},
   "source": [
    "# 训练和测试"
   ]
  },
  {
   "cell_type": "markdown",
   "id": "0b23077d",
   "metadata": {},
   "source": [
    "初始化模型"
   ]
  },
  {
   "cell_type": "code",
   "execution_count": 55,
   "id": "ff6dabe6",
   "metadata": {},
   "outputs": [],
   "source": [
    "import torch.optim as optim\n",
    "\n",
    "# 初始化模型\n",
    "model = TemporalGNN(node_features=3, periods=6)\n",
    "device = torch.device(\"cuda\" if torch.cuda.is_available() else \"cpu\")\n",
    "model.to(device)\n",
    "\n",
    "# 设置损失函数和优化器\n",
    "criterion = torch.nn.MSELoss()  # 均方误差作为损失函数\n",
    "optimizer = optim.Adam(model.parameters(), lr=0.01)  # Adam优化器\n"
   ]
  },
  {
   "cell_type": "markdown",
   "id": "d7386023",
   "metadata": {},
   "source": [
    "训练模型"
   ]
  },
  {
   "cell_type": "code",
   "execution_count": 56,
   "id": "db8efc81",
   "metadata": {},
   "outputs": [
    {
     "name": "stdout",
     "output_type": "stream",
     "text": [
      "Epoch 1/50, Loss: 16.2590\n",
      "Epoch 2/50, Loss: 4.2530\n",
      "Epoch 3/50, Loss: 3.5913\n",
      "Epoch 4/50, Loss: 2.8598\n",
      "Epoch 5/50, Loss: 2.2881\n",
      "Epoch 6/50, Loss: 1.9285\n",
      "Epoch 7/50, Loss: 1.6612\n",
      "Epoch 8/50, Loss: 1.3678\n",
      "Epoch 9/50, Loss: 1.0851\n",
      "Epoch 10/50, Loss: 0.9892\n",
      "Epoch 11/50, Loss: 0.9513\n",
      "Epoch 12/50, Loss: 0.8838\n",
      "Epoch 13/50, Loss: 0.8502\n",
      "Epoch 14/50, Loss: 0.8258\n",
      "Epoch 15/50, Loss: 0.8109\n",
      "Epoch 16/50, Loss: 0.8351\n",
      "Epoch 17/50, Loss: 1.9499\n",
      "Epoch 18/50, Loss: 0.8976\n",
      "Epoch 19/50, Loss: 0.6588\n",
      "Epoch 20/50, Loss: 0.6299\n",
      "Epoch 21/50, Loss: 0.6173\n",
      "Epoch 22/50, Loss: 0.6006\n",
      "Epoch 23/50, Loss: 0.6037\n",
      "Epoch 24/50, Loss: 0.6116\n",
      "Epoch 25/50, Loss: 0.6341\n",
      "Epoch 26/50, Loss: 0.6364\n",
      "Epoch 27/50, Loss: 0.6191\n",
      "Epoch 28/50, Loss: 0.6250\n",
      "Epoch 29/50, Loss: 0.5996\n",
      "Epoch 30/50, Loss: 0.5929\n",
      "Epoch 31/50, Loss: 0.5981\n",
      "Epoch 32/50, Loss: 0.5744\n",
      "Epoch 33/50, Loss: 0.5557\n",
      "Epoch 34/50, Loss: 0.5632\n",
      "Epoch 35/50, Loss: 0.5271\n",
      "Epoch 36/50, Loss: 0.5319\n",
      "Epoch 37/50, Loss: 0.5108\n",
      "Epoch 38/50, Loss: 0.6279\n",
      "Epoch 39/50, Loss: 0.5028\n",
      "Epoch 40/50, Loss: 0.4606\n",
      "Epoch 41/50, Loss: 0.4819\n",
      "Epoch 42/50, Loss: 1.0760\n",
      "Epoch 43/50, Loss: 3.1281\n",
      "Epoch 44/50, Loss: 1.2391\n",
      "Epoch 45/50, Loss: 0.8186\n",
      "Epoch 46/50, Loss: 0.5820\n",
      "Epoch 47/50, Loss: 0.5249\n",
      "Epoch 48/50, Loss: 0.5105\n",
      "Epoch 49/50, Loss: 0.5410\n",
      "Epoch 50/50, Loss: 0.5442\n"
     ]
    }
   ],
   "source": [
    "def train_model(model, data, epochs):\n",
    "    model.train()\n",
    "    for epoch in range(epochs):\n",
    "        total_loss = 0\n",
    "        for time_step in data:\n",
    "            optimizer.zero_grad()\n",
    "            out = model(time_step.x.to(device), time_step.edge_index.to(device), time_step.edge_attr.to(device))\n",
    "            loss = criterion(out, time_step.y.to(device))\n",
    "            loss.backward()\n",
    "            optimizer.step()\n",
    "            total_loss += loss.item()\n",
    "        print(f\"Epoch {epoch+1}/{epochs}, Loss: {total_loss:.4f}\")\n",
    "\n",
    "# 调用训练函数\n",
    "train_model(model, graph_data, epochs=50)\n"
   ]
  },
  {
   "cell_type": "code",
   "execution_count": 17,
   "id": "f8d3f7bc",
   "metadata": {},
   "outputs": [
    {
     "ename": "NameError",
     "evalue": "name 'test_loader' is not defined",
     "output_type": "error",
     "traceback": [
      "\u001b[1;31m---------------------------------------------------------------------------\u001b[0m",
      "\u001b[1;31mNameError\u001b[0m                                 Traceback (most recent call last)",
      "Input \u001b[1;32mIn [17]\u001b[0m, in \u001b[0;36m<cell line: 16>\u001b[1;34m()\u001b[0m\n\u001b[0;32m     14\u001b[0m \u001b[38;5;66;03m# 调用测试函数\u001b[39;00m\n\u001b[0;32m     15\u001b[0m criterion \u001b[38;5;241m=\u001b[39m nn\u001b[38;5;241m.\u001b[39mMSELoss()  \u001b[38;5;66;03m# 确保使用和训练相同的损失函数\u001b[39;00m\n\u001b[1;32m---> 16\u001b[0m test_model(model, \u001b[43mtest_loader\u001b[49m, criterion)\n",
      "\u001b[1;31mNameError\u001b[0m: name 'test_loader' is not defined"
     ]
    }
   ],
   "source": [
    "def test_model(model, test_loader, criterion):\n",
    "    model.eval()  # 切换到评估模式\n",
    "    total_loss = 0\n",
    "    with torch.no_grad():  # 在测试阶段，我们不需要计算梯度\n",
    "        for inputs, targets in test_loader:\n",
    "            inputs, targets = inputs.to(device), targets.to(device)\n",
    "            outputs = model(inputs)\n",
    "            loss = criterion(outputs, targets)\n",
    "            total_loss += loss.item()\n",
    "    \n",
    "    average_loss = total_loss / len(test_loader)\n",
    "    print(f'Test MSE: {average_loss:.4f}')\n",
    "\n",
    "# 调用测试函数\n",
    "criterion = nn.MSELoss()  # 确保使用和训练相同的损失函数\n",
    "test_model(model, test_loader, criterion)\n"
   ]
  },
  {
   "cell_type": "markdown",
   "id": "cf5698cd",
   "metadata": {},
   "source": [
    "# 层级注意力机制重构"
   ]
  },
  {
   "cell_type": "code",
   "execution_count": null,
   "id": "adbae8e3",
   "metadata": {},
   "outputs": [],
   "source": []
  }
 ],
 "metadata": {
  "kernelspec": {
   "display_name": "Python 3 (ipykernel)",
   "language": "python",
   "name": "python3"
  },
  "language_info": {
   "codemirror_mode": {
    "name": "ipython",
    "version": 3
   },
   "file_extension": ".py",
   "mimetype": "text/x-python",
   "name": "python",
   "nbconvert_exporter": "python",
   "pygments_lexer": "ipython3",
   "version": "3.9.12"
  }
 },
 "nbformat": 4,
 "nbformat_minor": 5
}
