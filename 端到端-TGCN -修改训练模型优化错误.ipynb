{
 "cells": [
  {
   "cell_type": "code",
   "execution_count": 2,
   "id": "08c380b4",
   "metadata": {},
   "outputs": [],
   "source": [
    "import pandas as pd\n",
    "import seaborn as sns\n",
    "import numpy as np\n",
    "%matplotlib inline\n",
    "import matplotlib.pyplot as plt\n",
    "\n",
    "from torch_geometric.data import Data\n",
    "import warnings\n",
    "warnings.filterwarnings(\"ignore\")\n",
    "import torch\n"
   ]
  },
  {
   "cell_type": "code",
   "execution_count": 3,
   "id": "baf76df0",
   "metadata": {},
   "outputs": [
    {
     "name": "stdout",
     "output_type": "stream",
     "text": [
      "CUDA Available: True\n",
      "tensor([1., 2., 3.], device='cuda:0')\n"
     ]
    }
   ],
   "source": [
    "import torch\n",
    "print(\"CUDA Available:\", torch.cuda.is_available())\n",
    "x = torch.tensor([1.0, 2.0, 3.0], device='cuda')\n",
    "print(x)"
   ]
  },
  {
   "cell_type": "code",
   "execution_count": 4,
   "id": "b16255a8",
   "metadata": {},
   "outputs": [],
   "source": [
    "data=pd.read_csv(\"data_consolidation_standardization.csv\")\n",
    "data=data.drop(labels=\"Unnamed: 0\", axis=1)\n",
    "# data_test=data.loc[data['CellID']<=100]"
   ]
  },
  {
   "cell_type": "code",
   "execution_count": 5,
   "id": "c487ecfe",
   "metadata": {},
   "outputs": [],
   "source": [
    "data.sort_values(['CellID','datetime'], inplace=True)\n",
    "data_test=data"
   ]
  },
  {
   "cell_type": "code",
   "execution_count": 17,
   "id": "9f76bb37",
   "metadata": {},
   "outputs": [
    {
     "data": {
      "text/html": [
       "<div>\n",
       "<style scoped>\n",
       "    .dataframe tbody tr th:only-of-type {\n",
       "        vertical-align: middle;\n",
       "    }\n",
       "\n",
       "    .dataframe tbody tr th {\n",
       "        vertical-align: top;\n",
       "    }\n",
       "\n",
       "    .dataframe thead th {\n",
       "        text-align: right;\n",
       "    }\n",
       "</style>\n",
       "<table border=\"1\" class=\"dataframe\">\n",
       "  <thead>\n",
       "    <tr style=\"text-align: right;\">\n",
       "      <th></th>\n",
       "      <th>datetime</th>\n",
       "      <th>CellID</th>\n",
       "      <th>internet</th>\n",
       "      <th>calls</th>\n",
       "      <th>sms</th>\n",
       "      <th>longitude</th>\n",
       "      <th>latitude</th>\n",
       "    </tr>\n",
       "  </thead>\n",
       "  <tbody>\n",
       "    <tr>\n",
       "      <th>0</th>\n",
       "      <td>2013-11-01 00:00:00</td>\n",
       "      <td>1</td>\n",
       "      <td>-1.045031</td>\n",
       "      <td>-0.739046</td>\n",
       "      <td>-0.846748</td>\n",
       "      <td>9.160012</td>\n",
       "      <td>45.358657</td>\n",
       "    </tr>\n",
       "    <tr>\n",
       "      <th>100</th>\n",
       "      <td>2013-11-01 01:00:00</td>\n",
       "      <td>1</td>\n",
       "      <td>-1.074765</td>\n",
       "      <td>-0.750493</td>\n",
       "      <td>-0.865873</td>\n",
       "      <td>9.160012</td>\n",
       "      <td>45.358657</td>\n",
       "    </tr>\n",
       "    <tr>\n",
       "      <th>200</th>\n",
       "      <td>2013-11-01 02:00:00</td>\n",
       "      <td>1</td>\n",
       "      <td>-1.087136</td>\n",
       "      <td>-0.754285</td>\n",
       "      <td>-0.873567</td>\n",
       "      <td>9.160012</td>\n",
       "      <td>45.358657</td>\n",
       "    </tr>\n",
       "    <tr>\n",
       "      <th>300</th>\n",
       "      <td>2013-11-01 03:00:00</td>\n",
       "      <td>1</td>\n",
       "      <td>-1.096080</td>\n",
       "      <td>-0.757753</td>\n",
       "      <td>-0.875403</td>\n",
       "      <td>9.160012</td>\n",
       "      <td>45.358657</td>\n",
       "    </tr>\n",
       "    <tr>\n",
       "      <th>400</th>\n",
       "      <td>2013-11-01 04:00:00</td>\n",
       "      <td>1</td>\n",
       "      <td>-1.109877</td>\n",
       "      <td>-0.756706</td>\n",
       "      <td>-0.878479</td>\n",
       "      <td>9.160012</td>\n",
       "      <td>45.358657</td>\n",
       "    </tr>\n",
       "    <tr>\n",
       "      <th>...</th>\n",
       "      <td>...</td>\n",
       "      <td>...</td>\n",
       "      <td>...</td>\n",
       "      <td>...</td>\n",
       "      <td>...</td>\n",
       "      <td>...</td>\n",
       "      <td>...</td>\n",
       "    </tr>\n",
       "    <tr>\n",
       "      <th>16399</th>\n",
       "      <td>2013-11-07 19:00:00</td>\n",
       "      <td>100</td>\n",
       "      <td>-0.050505</td>\n",
       "      <td>-0.004918</td>\n",
       "      <td>-0.064944</td>\n",
       "      <td>9.160606</td>\n",
       "      <td>45.568069</td>\n",
       "    </tr>\n",
       "    <tr>\n",
       "      <th>16499</th>\n",
       "      <td>2013-11-07 20:00:00</td>\n",
       "      <td>100</td>\n",
       "      <td>-0.141303</td>\n",
       "      <td>-0.239126</td>\n",
       "      <td>-0.156799</td>\n",
       "      <td>9.160606</td>\n",
       "      <td>45.568069</td>\n",
       "    </tr>\n",
       "    <tr>\n",
       "      <th>16599</th>\n",
       "      <td>2013-11-07 21:00:00</td>\n",
       "      <td>100</td>\n",
       "      <td>-0.231419</td>\n",
       "      <td>-0.426115</td>\n",
       "      <td>-0.262352</td>\n",
       "      <td>9.160606</td>\n",
       "      <td>45.568069</td>\n",
       "    </tr>\n",
       "    <tr>\n",
       "      <th>16699</th>\n",
       "      <td>2013-11-07 22:00:00</td>\n",
       "      <td>100</td>\n",
       "      <td>-0.319378</td>\n",
       "      <td>-0.600432</td>\n",
       "      <td>-0.395659</td>\n",
       "      <td>9.160606</td>\n",
       "      <td>45.568069</td>\n",
       "    </tr>\n",
       "    <tr>\n",
       "      <th>16799</th>\n",
       "      <td>2013-11-07 23:00:00</td>\n",
       "      <td>100</td>\n",
       "      <td>-0.463642</td>\n",
       "      <td>-0.677496</td>\n",
       "      <td>-0.616486</td>\n",
       "      <td>9.160606</td>\n",
       "      <td>45.568069</td>\n",
       "    </tr>\n",
       "  </tbody>\n",
       "</table>\n",
       "<p>16800 rows × 7 columns</p>\n",
       "</div>"
      ],
      "text/plain": [
       "                  datetime  CellID  internet     calls       sms  longitude  \\\n",
       "0      2013-11-01 00:00:00       1 -1.045031 -0.739046 -0.846748   9.160012   \n",
       "100    2013-11-01 01:00:00       1 -1.074765 -0.750493 -0.865873   9.160012   \n",
       "200    2013-11-01 02:00:00       1 -1.087136 -0.754285 -0.873567   9.160012   \n",
       "300    2013-11-01 03:00:00       1 -1.096080 -0.757753 -0.875403   9.160012   \n",
       "400    2013-11-01 04:00:00       1 -1.109877 -0.756706 -0.878479   9.160012   \n",
       "...                    ...     ...       ...       ...       ...        ...   \n",
       "16399  2013-11-07 19:00:00     100 -0.050505 -0.004918 -0.064944   9.160606   \n",
       "16499  2013-11-07 20:00:00     100 -0.141303 -0.239126 -0.156799   9.160606   \n",
       "16599  2013-11-07 21:00:00     100 -0.231419 -0.426115 -0.262352   9.160606   \n",
       "16699  2013-11-07 22:00:00     100 -0.319378 -0.600432 -0.395659   9.160606   \n",
       "16799  2013-11-07 23:00:00     100 -0.463642 -0.677496 -0.616486   9.160606   \n",
       "\n",
       "        latitude  \n",
       "0      45.358657  \n",
       "100    45.358657  \n",
       "200    45.358657  \n",
       "300    45.358657  \n",
       "400    45.358657  \n",
       "...          ...  \n",
       "16399  45.568069  \n",
       "16499  45.568069  \n",
       "16599  45.568069  \n",
       "16699  45.568069  \n",
       "16799  45.568069  \n",
       "\n",
       "[16800 rows x 7 columns]"
      ]
     },
     "execution_count": 17,
     "metadata": {},
     "output_type": "execute_result"
    }
   ],
   "source": [
    "data_test"
   ]
  },
  {
   "cell_type": "markdown",
   "id": "0f010bcb",
   "metadata": {},
   "source": [
    "# 重构数据"
   ]
  },
  {
   "cell_type": "code",
   "execution_count": 7,
   "id": "ec6fc9d2",
   "metadata": {},
   "outputs": [],
   "source": [
    "# 初始化一个数组来存储重构后的数据\n",
    "num_nodes = 100\n",
    "num_timesteps = 168\n",
    "num_features = 3"
   ]
  },
  {
   "cell_type": "markdown",
   "id": "367b0585",
   "metadata": {},
   "source": [
    "X为需要用到的数据"
   ]
  },
  {
   "cell_type": "code",
   "execution_count": 9,
   "id": "32fd588f",
   "metadata": {},
   "outputs": [],
   "source": [
    "# 创建一个空的 numpy 数组，用于存储每个节点的特征，这里是提取和时序有关的数据，为训练集和测试集构建做准备\n",
    "X = np.zeros((num_nodes, num_timesteps, num_features))\n",
    "\n",
    "# 遍历每个基站，填充数据\n",
    "for i in range(num_nodes):\n",
    "    # 提取当前基站的数据\n",
    "    node_data = data_test[data_test['CellID'] == i+1]  # 假设 CellID 从 1 开始\n",
    "    # 确保数据的长度正确\n",
    "    if len(node_data) == num_timesteps:\n",
    "        X[i, :, 0] = node_data['internet'].values\n",
    "        X[i, :, 1] = node_data['calls'].values\n",
    "        X[i, :, 2] = node_data['sms'].values\n",
    "    else:\n",
    "        print(f\"Warning: Node {i+1} has incorrect number of timesteps: {len(node_data)}\")\n"
   ]
  },
  {
   "cell_type": "code",
   "execution_count": 18,
   "id": "22b9e0dd",
   "metadata": {},
   "outputs": [
    {
     "data": {
      "text/plain": [
       "array([[[-1.0450308 , -0.73904563, -0.84674845],\n",
       "        [-1.07476506, -0.75049338, -0.86587277],\n",
       "        [-1.08713609, -0.7542851 , -0.87356665],\n",
       "        ...,\n",
       "        [-0.96361034, -0.67310022, -0.74354086],\n",
       "        [-0.97581032, -0.71657865, -0.76440385],\n",
       "        [-1.00971515, -0.73868004, -0.80597322]],\n",
       "\n",
       "       [[-1.02265791, -0.73796843, -0.84425615],\n",
       "        [-1.05836134, -0.74950306, -0.86310406],\n",
       "        [-1.06950522, -0.75192882, -0.87142658],\n",
       "        ...,\n",
       "        [-0.92947228, -0.66630709, -0.72315621],\n",
       "        [-0.93924703, -0.7134834 , -0.74826225],\n",
       "        [-0.97507457, -0.73674196, -0.79580883]],\n",
       "\n",
       "       [[-1.0293318 , -0.73824903, -0.84680945],\n",
       "        [-1.06575388, -0.74942007, -0.8626201 ],\n",
       "        [-1.07831554, -0.75036499, -0.87113144],\n",
       "        ...,\n",
       "        [-0.93603355, -0.66563623, -0.72124845],\n",
       "        [-0.95273954, -0.71413596, -0.75372177],\n",
       "        [-0.98775576, -0.73780824, -0.79689143]],\n",
       "\n",
       "       ...,\n",
       "\n",
       "       [[-0.59533329, -0.68073512, -0.64476015],\n",
       "        [-0.72512362, -0.72087955, -0.67231443],\n",
       "        [-0.77803937, -0.73445543, -0.74826536],\n",
       "        ...,\n",
       "        [-0.36780193, -0.44084651, -0.26713923],\n",
       "        [-0.42591471, -0.59665518, -0.36263794],\n",
       "        [-0.55119387, -0.67345361, -0.54679698]],\n",
       "\n",
       "       [[-0.60840099, -0.68700635, -0.6969245 ],\n",
       "        [-0.73077664, -0.72357434, -0.73567993],\n",
       "        [-0.75929481, -0.7310581 , -0.76764791],\n",
       "        ...,\n",
       "        [-0.29848601, -0.43736031, -0.27136416],\n",
       "        [-0.39143021, -0.60464578, -0.40040831],\n",
       "        [-0.52252152, -0.67625395, -0.59906662]],\n",
       "\n",
       "       [[-0.56546088, -0.68043325, -0.69209128],\n",
       "        [-0.66945866, -0.71632843, -0.77551497],\n",
       "        [-0.68877551, -0.7250608 , -0.79954134],\n",
       "        ...,\n",
       "        [-0.23141879, -0.42611526, -0.26235155],\n",
       "        [-0.31937758, -0.60043244, -0.39565899],\n",
       "        [-0.46364193, -0.67749615, -0.61648593]]])"
      ]
     },
     "execution_count": 18,
     "metadata": {},
     "output_type": "execute_result"
    }
   ],
   "source": [
    "X"
   ]
  },
  {
   "cell_type": "code",
   "execution_count": 19,
   "id": "02d86710",
   "metadata": {},
   "outputs": [
    {
     "name": "stdout",
     "output_type": "stream",
     "text": [
      "X_train shape: (157, 100, 3, 6)\n",
      "Y_train shape: (157, 100, 6)\n"
     ]
    }
   ],
   "source": [
    "import numpy as np\n",
    "\n",
    "# 参数设置\n",
    "num_nodes = 100  # 节点数量\n",
    "num_timesteps = 168  # 每个节点的时间点数量\n",
    "window_size = 6  # 滑动窗口大小\n",
    "predict_steps = 6  # 预测未来的时间步数\n",
    "\n",
    "# 计算可以利用的时间序列长度（减去窗口大小和预测的步数）\n",
    "usable_timesteps = num_timesteps - window_size - predict_steps + 1\n",
    "\n",
    "# 初始化训练数据和标签数组\n",
    "X_train = np.zeros((usable_timesteps, num_nodes, 3, window_size))  # 特征窗口数据\n",
    "Y_train = np.zeros((usable_timesteps, num_nodes, predict_steps))  # 预测目标数据，现在每个节点有3个预测点\n",
    "\n",
    "# 数据提取\n",
    "for t in range(usable_timesteps):\n",
    "    # 提取每个节点的特征窗口\n",
    "    X_train[t] = np.transpose(X[:, t:t+window_size, :], (0, 2, 1))\n",
    "    # 提取每个节点对应窗口后未来3个时间点的internet特征作为标签\n",
    "    Y_train[t] = X[:, t+window_size:t+window_size+predict_steps, 0].reshape(num_nodes, predict_steps)\n",
    "\n",
    "# 检查最终的数据形状\n",
    "print(f\"X_train shape: {X_train.shape}\")  # 应为 (usable_timesteps, 100, 3, 6)\n",
    "print(f\"Y_train shape: {Y_train.shape}\")  # 应为 (usable_timesteps, 100, 3)\n"
   ]
  },
  {
   "cell_type": "code",
   "execution_count": 20,
   "id": "fe2ab0a0",
   "metadata": {},
   "outputs": [],
   "source": [
    "import torch\n",
    "from torch_geometric.data import Data\n"
   ]
  },
  {
   "cell_type": "code",
   "execution_count": 12,
   "id": "e3c29b11",
   "metadata": {},
   "outputs": [],
   "source": [
    "edge_index = []\n",
    "\n",
    "# 因为边是无向的，所以每个连接要添加两次，一次为 (source, target)，另一次为 (target, source)\n",
    "for timestep in range(num_timesteps - 6):  # 如果时间步涉及到边的创建，可能需要调整范围\n",
    "    for cell_id in range(1, num_nodes):  # 假设从1开始，确保不超出边界\n",
    "        if cell_id < num_nodes:  # 确保不会创建超出范围的边\n",
    "            src = cell_id - 1  # CellID 从1开始的调整\n",
    "            dst = cell_id     # 相邻的CellID，确保不越界\n",
    "\n",
    "            # 添加边 (src, dst) 和 (dst, src)\n",
    "            edge_index.append((src, dst))\n",
    "            edge_index.append((dst, src))\n",
    "\n",
    "# 转换为PyTorch张量\n",
    "edge_index_tensor = torch.tensor(edge_index, dtype=torch.long).t().contiguous()"
   ]
  },
  {
   "cell_type": "code",
   "execution_count": 13,
   "id": "eae1927d",
   "metadata": {},
   "outputs": [],
   "source": [
    "import torch\n",
    "from torch_geometric_temporal.signal import StaticGraphTemporalSignal\n",
    "\n",
    "# 假设 X_tensor 和 Y_tensor 已经准备好\n",
    "# edge_index_tensor 也已经定义\n",
    "\n",
    "# # 特征和目标应该是列表形式，其中每个元素是一个时间步的数据\n",
    "\n",
    "# features = [X_train[i] for i in range(X_tensor.shape[0])]\n",
    "# targets = [Y_train[i] for i in range(Y_tensor.shape[0])]\n",
    "\n",
    "features = [X_train[i] for i in range(X_train.shape[0])]\n",
    "targets = [Y_train[i] for i in range(Y_train.shape[0])]\n",
    "\n",
    "\n",
    "# 由于这里假设所有时间步使用相同的边，我们将 edge_index 和 edge_weight 设置为常量\n",
    "# 如果没有特定的边权重，可以使用全1的张量\n",
    "edge_weights = torch.ones(edge_index_tensor.size(1), dtype=torch.float)\n",
    "\n",
    "# 创建 StaticGraphTemporalSignal 对象\n",
    "graph_data = StaticGraphTemporalSignal(edge_index=edge_index_tensor, edge_weight=edge_weights, features=features, targets=targets)"
   ]
  },
  {
   "cell_type": "markdown",
   "id": "eacb2ad8",
   "metadata": {},
   "source": [
    "# 数据检查"
   ]
  },
  {
   "cell_type": "code",
   "execution_count": 21,
   "id": "f3c4c04d",
   "metadata": {},
   "outputs": [
    {
     "data": {
      "text/plain": [
       "<torch_geometric_temporal.signal.static_graph_temporal_signal.StaticGraphTemporalSignal at 0x25bc75de1f0>"
      ]
     },
     "execution_count": 21,
     "metadata": {},
     "output_type": "execute_result"
    }
   ],
   "source": [
    "graph_data"
   ]
  },
  {
   "cell_type": "code",
   "execution_count": 22,
   "id": "3e791ede",
   "metadata": {},
   "outputs": [
    {
     "data": {
      "text/plain": [
       "Data(x=[100, 3, 6], edge_index=[2, 32076], edge_attr=[32076], y=[100, 6])"
      ]
     },
     "execution_count": 22,
     "metadata": {},
     "output_type": "execute_result"
    }
   ],
   "source": [
    "graph_data[0]"
   ]
  },
  {
   "cell_type": "markdown",
   "id": "eaf2b078",
   "metadata": {},
   "source": [
    "# 模型构建"
   ]
  },
  {
   "cell_type": "code",
   "execution_count": 23,
   "id": "3fee9676",
   "metadata": {},
   "outputs": [],
   "source": [
    "import torch\n",
    "import torch.nn.functional as F\n",
    "from torch_geometric_temporal.nn.recurrent import A3TGCN\n",
    "\n",
    "class TemporalGNN(torch.nn.Module):\n",
    "    def __init__(self, node_features, periods):\n",
    "        super(TemporalGNN, self).__init__()\n",
    "        # Attention Temporal Graph Convolutional Cell\n",
    "        self.tgnn = A3TGCN(in_channels=node_features, \n",
    "                           out_channels=32, \n",
    "                           periods=periods)#periods决定模型侧重短期特征还是长期特征\n",
    "        # Equals single-shot prediction\n",
    "        self.linear = torch.nn.Linear(32, periods)#预测未来的12个值\n",
    "\n",
    "#     def forward(self, x, edge_index,edge_attr):\n",
    "    def forward(self, x, edge_index):\n",
    "        \"\"\"\n",
    "        x = Node features for T time steps\n",
    "        edge_index = Graph edge indices\n",
    "        \"\"\"\n",
    "#         h = self.tgnn(x, edge_index,edge_attr)\n",
    "        h = self.tgnn(x, edge_index)\n",
    "        h = F.relu(h)\n",
    "        h = self.linear(h)\n",
    "        return h\n",
    "\n",
    "# TemporalGNN(node_features=3, periods=1)"
   ]
  },
  {
   "cell_type": "markdown",
   "id": "c687322a",
   "metadata": {},
   "source": [
    "# 训练和测试"
   ]
  },
  {
   "cell_type": "code",
   "execution_count": null,
   "id": "bb4e93ef",
   "metadata": {},
   "outputs": [
    {
     "name": "stdout",
     "output_type": "stream",
     "text": [
      "Running training...\n",
      "Epoch 1 train MSE: 0.6649\n",
      "Epoch 2 train MSE: 0.5794\n",
      "Epoch 3 train MSE: 0.5090\n",
      "Epoch 4 train MSE: 0.4739\n",
      "Epoch 5 train MSE: 0.4503\n",
      "Epoch 6 train MSE: 0.4326\n",
      "Epoch 7 train MSE: 0.4109\n",
      "Epoch 8 train MSE: 0.3943\n",
      "Epoch 9 train MSE: 0.3853\n",
      "Epoch 10 train MSE: 0.3711\n",
      "Epoch 11 train MSE: 0.3400\n",
      "Epoch 12 train MSE: 0.3699\n",
      "Epoch 13 train MSE: 0.3181\n",
      "Epoch 14 train MSE: 0.3343\n",
      "Epoch 15 train MSE: 0.2919\n",
      "Epoch 16 train MSE: 0.2996\n",
      "Epoch 17 train MSE: 0.2991\n",
      "Epoch 18 train MSE: 0.2669\n",
      "Epoch 19 train MSE: 0.2905\n",
      "Epoch 20 train MSE: 0.2713\n",
      "Epoch 21 train MSE: 0.2738\n",
      "Epoch 22 train MSE: 0.2492\n",
      "Epoch 23 train MSE: 0.2530\n",
      "Epoch 24 train MSE: 0.2428\n",
      "Epoch 25 train MSE: 0.2287\n",
      "Epoch 26 train MSE: 0.2185\n",
      "Epoch 27 train MSE: 0.2153\n",
      "Epoch 28 train MSE: 0.2069\n",
      "Epoch 29 train MSE: 0.2491\n",
      "Epoch 30 train MSE: 0.2548\n",
      "Epoch 31 train MSE: 0.2419\n",
      "Epoch 32 train MSE: 0.2115\n",
      "Epoch 33 train MSE: 0.1843\n",
      "Epoch 34 train MSE: 0.1768\n",
      "Epoch 35 train MSE: 0.1939\n",
      "Epoch 36 train MSE: 0.1733\n",
      "Epoch 37 train MSE: 0.2088\n",
      "Epoch 38 train MSE: 0.2653\n",
      "Epoch 39 train MSE: 0.2001\n",
      "Epoch 40 train MSE: 0.2102\n"
     ]
    }
   ],
   "source": [
    "import torch\n",
    "import torch.nn as nn\n",
    "import torch.optim as optim\n",
    "\n",
    "# GPU support\n",
    "device = torch.device('cuda' if torch.cuda.is_available() else 'cpu')\n",
    "\n",
    "# Create model and optimizers\n",
    "model = TemporalGNN(node_features=3, periods=6).to(device)\n",
    "optimizer = torch.optim.Adam(model.parameters(), lr=0.01)\n",
    "criterion = nn.MSELoss()  # 显式使用MSE损失函数\n",
    "\n",
    "# 数据集限制大小\n",
    "subset = 2000\n",
    "\n",
    "# 训练模式\n",
    "model.train()\n",
    "\n",
    "print(\"Running training...\")\n",
    "for epoch in range(50):\n",
    "    total_loss = 0\n",
    "    step = 0\n",
    "    for snapshot in graph_data:\n",
    "        if step >= subset:\n",
    "            break  # 控制每个epoch处理的数据量\n",
    "\n",
    "        snapshot = snapshot.to(device)\n",
    "\n",
    "        # Get model predictions\n",
    "        optimizer.zero_grad()  # 梯度清零放在获取预测和计算损失之前\n",
    "        y_hat = model(snapshot.x, snapshot.edge_index)\n",
    "\n",
    "        # 计算损失\n",
    "        loss = criterion(y_hat, snapshot.y)  # 使用损失函数对象\n",
    "        loss.backward()  # 反向传播\n",
    "        optimizer.step()  # 优化器更新模型参数\n",
    "\n",
    "        total_loss += loss.item()  # 累加损失用于后续打印\n",
    "        step += 1\n",
    "\n",
    "    average_loss = total_loss / step  # 计算平均损失\n",
    "    print(f\"Epoch {epoch+1} train MSE: {average_loss:.4f}\")\n"
   ]
  },
  {
   "cell_type": "code",
   "execution_count": 118,
   "id": "e3aca15c",
   "metadata": {},
   "outputs": [
    {
     "name": "stdout",
     "output_type": "stream",
     "text": [
      "Running training...\n",
      "Epoch 0 train MSE: 1.0252\n",
      "Epoch 1 train MSE: 0.9673\n",
      "Epoch 2 train MSE: 0.9108\n",
      "Epoch 3 train MSE: 0.8498\n",
      "Epoch 4 train MSE: 0.7887\n",
      "Epoch 5 train MSE: 0.7286\n",
      "Epoch 6 train MSE: 0.6740\n",
      "Epoch 7 train MSE: 0.6300\n",
      "Epoch 8 train MSE: 0.5998\n",
      "Epoch 9 train MSE: 0.5827\n"
     ]
    }
   ],
   "source": [
    "# GPU support\n",
    "\n",
    "device = torch.device('cuda' if torch.cuda.is_available() else 'cpu')\n",
    "subset = 2000#限制数据集为2000\n",
    "\n",
    "# Create model and optimizers\n",
    "model = TemporalGNN(node_features=3, periods=6).to(device)#node_features是节点特征长度，而periods是预测的时间步,todevice一方面\n",
    "# model = TemporalGNN(node_features=3, periods=1)\n",
    "optimizer = torch.optim.Adam(model.parameters(), lr=0.01)\n",
    "model.train()\n",
    "\n",
    "print(\"Running training...\")\n",
    "for epoch in range(10): \n",
    "    loss = 0\n",
    "    step = 0\n",
    "    for snapshot in graph_data:\n",
    "        snapshot = snapshot.to(device)\n",
    "        # Get model predictions\n",
    "        y_hat = model(snapshot.x, snapshot.edge_index)\n",
    "#         y_hat = model(snapshot.x, snapshot.edge_index,snapshot.edge_attr)\n",
    "\n",
    "\n",
    "        # Mean squared error\n",
    "        loss = loss + torch.mean((y_hat-snapshot.y)**2) \n",
    "        step += 1\n",
    "        if step > subset:\n",
    "            break\n",
    "\n",
    "    loss = loss / (step + 1)\n",
    "    loss.backward()\n",
    "    optimizer.step()\n",
    "    optimizer.zero_grad()\n",
    "    print(\"Epoch {} train MSE: {:.4f}\".format(epoch, loss.item()))"
   ]
  },
  {
   "cell_type": "markdown",
   "id": "cf5698cd",
   "metadata": {},
   "source": [
    "# 层级注意力机制重构"
   ]
  },
  {
   "cell_type": "code",
   "execution_count": null,
   "id": "adbae8e3",
   "metadata": {},
   "outputs": [],
   "source": []
  }
 ],
 "metadata": {
  "kernelspec": {
   "display_name": "Python 3 (ipykernel)",
   "language": "python",
   "name": "python3"
  },
  "language_info": {
   "codemirror_mode": {
    "name": "ipython",
    "version": 3
   },
   "file_extension": ".py",
   "mimetype": "text/x-python",
   "name": "python",
   "nbconvert_exporter": "python",
   "pygments_lexer": "ipython3",
   "version": "3.9.12"
  }
 },
 "nbformat": 4,
 "nbformat_minor": 5
}
